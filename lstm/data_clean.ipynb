{
 "cells": [
  {
   "cell_type": "markdown",
   "id": "f8c36b38-349f-4775-9ab8-601cad46eee2",
   "metadata": {},
   "source": [
    "# Data Cleaning: Amazon Product Reviews Dataset\n",
    "\n",
    "Note: This notebook is assumed to be run from the `lstm` directory of this project"
   ]
  },
  {
   "cell_type": "code",
   "execution_count": 36,
   "id": "dd8fa617-f32e-4b9b-a074-ec96676e4559",
   "metadata": {},
   "outputs": [],
   "source": [
    "import os\n",
    "import typing\n",
    "import numpy as np\n",
    "from tqdm import tqdm\n",
    "import pandas as pd\n",
    "from bs4 import BeautifulSoup\n",
    "import matplotlib.pyplot as plt\n",
    "\n",
    "%matplotlib inline"
   ]
  },
  {
   "cell_type": "markdown",
   "id": "eb8d34fb-d283-4ada-bb35-4b4d3e334508",
   "metadata": {},
   "source": [
    "## 1. Load data"
   ]
  },
  {
   "cell_type": "code",
   "execution_count": 2,
   "id": "e9d339f9-4f95-4648-99bd-04afe28bbcdb",
   "metadata": {},
   "outputs": [],
   "source": [
    "PROJECT_DIR = os.path.dirname(os.getcwd())\n",
    "DATA_DIR = os.path.join(PROJECT_DIR, 'data', 'amazon-product-reviews')\n",
    "DATA_FILE = os.path.join(DATA_DIR, 'Reviews.csv')"
   ]
  },
  {
   "cell_type": "markdown",
   "id": "085c1a00-bcd9-4afd-be37-7ebe41f05cc8",
   "metadata": {},
   "source": [
    "Load csv file into Pandas dataframe"
   ]
  },
  {
   "cell_type": "code",
   "execution_count": 3,
   "id": "0ffa13b9-ad09-44fd-a916-32a42832a35e",
   "metadata": {},
   "outputs": [
    {
     "name": "stdout",
     "output_type": "stream",
     "text": [
      "<class 'pandas.core.frame.DataFrame'>\n",
      "RangeIndex: 568454 entries, 0 to 568453\n",
      "Data columns (total 10 columns):\n",
      " #   Column                  Non-Null Count   Dtype \n",
      "---  ------                  --------------   ----- \n",
      " 0   Id                      568454 non-null  int64 \n",
      " 1   ProductId               568454 non-null  object\n",
      " 2   UserId                  568454 non-null  object\n",
      " 3   ProfileName             568438 non-null  object\n",
      " 4   HelpfulnessNumerator    568454 non-null  int64 \n",
      " 5   HelpfulnessDenominator  568454 non-null  int64 \n",
      " 6   Score                   568454 non-null  int64 \n",
      " 7   Time                    568454 non-null  int64 \n",
      " 8   Summary                 568427 non-null  object\n",
      " 9   Text                    568454 non-null  object\n",
      "dtypes: int64(5), object(5)\n",
      "memory usage: 43.4+ MB\n"
     ]
    }
   ],
   "source": [
    "df = pd.read_csv(DATA_FILE)\n",
    "df.info()"
   ]
  },
  {
   "cell_type": "markdown",
   "id": "4ac11423-6762-4049-a578-1e806912294a",
   "metadata": {},
   "source": [
    "For this project, we're only interested in the `Summary` and `Text` attributes"
   ]
  },
  {
   "cell_type": "code",
   "execution_count": 4,
   "id": "fe7c7067-d060-4a9a-8fe9-92ed304d5107",
   "metadata": {},
   "outputs": [
    {
     "name": "stdout",
     "output_type": "stream",
     "text": [
      "<class 'pandas.core.frame.DataFrame'>\n",
      "Int64Index: 568427 entries, 0 to 568453\n",
      "Data columns (total 2 columns):\n",
      " #   Column   Non-Null Count   Dtype \n",
      "---  ------   --------------   ----- \n",
      " 0   Text     568427 non-null  object\n",
      " 1   Summary  568427 non-null  object\n",
      "dtypes: object(2)\n",
      "memory usage: 13.0+ MB\n"
     ]
    }
   ],
   "source": [
    "df = df[['Text', 'Summary']]\n",
    "df = df[df['Summary'].isnull() == False]\n",
    "df.info()"
   ]
  },
  {
   "cell_type": "markdown",
   "id": "8e4fe7f4-8e07-40e0-95cb-81bac772f7d8",
   "metadata": {},
   "source": [
    "## 2. Clean data"
   ]
  },
  {
   "cell_type": "code",
   "execution_count": 19,
   "id": "77e18b87-ba6a-43ad-80de-c1c6aa9542f8",
   "metadata": {},
   "outputs": [],
   "source": [
    "contraction_mapping = {\"ain't\": \"is not\", \"aren't\": \"are not\",\"can't\": \"cannot\", \"'cause\": \"because\", \"could've\": \"could have\", \"couldn't\": \"could not\",\"didn't\": \"did not\", \"doesn't\": \"does not\", \"don't\": \"do not\", \"hadn't\": \"had not\", \"hasn't\": \"has not\", \"haven't\": \"have not\",\"he'd\": \"he would\",\"he'll\": \"he will\", \"he's\": \"he is\", \"how'd\": \"how did\", \"how'd'y\": \"how do you\", \"how'll\": \"how will\", \"how's\": \"how is\",\"I'd\": \"I would\", \"I'd've\": \"I would have\", \"I'll\": \"I will\", \"I'll've\": \"I will have\",\"I'm\": \"I am\", \"I've\": \"I have\", \"i'd\": \"i would\",\"i'd've\": \"i would have\", \"i'll\": \"i will\",  \"i'll've\": \"i will have\",\"i'm\": \"i am\", \"i've\": \"i have\", \"isn't\": \"is not\", \"it'd\": \"it would\",\"it'd've\": \"it would have\", \"it'll\": \"it will\", \"it'll've\": \"it will have\",\"it's\": \"it is\", \"let's\": \"let us\", \"ma'am\": \"madam\",\"mayn't\": \"may not\", \"might've\": \"might have\",\"mightn't\": \"might not\",\"mightn't've\": \"might not have\", \"must've\": \"must have\",\"mustn't\": \"must not\", \"mustn't've\": \"must not have\", \"needn't\": \"need not\", \"needn't've\": \"need not have\",\"o'clock\": \"of the clock\",\"oughtn't\": \"ought not\", \"oughtn't've\": \"ought not have\", \"shan't\": \"shall not\", \"sha'n't\": \"shall not\", \"shan't've\": \"shall not have\",\"she'd\": \"she would\", \"she'd've\": \"she would have\", \"she'll\": \"she will\", \"she'll've\": \"she will have\", \"she's\": \"she is\",\"should've\": \"should have\", \"shouldn't\": \"should not\", \"shouldn't've\": \"should not have\", \"so've\": \"so have\",\"so's\": \"so as\",\"this's\": \"this is\",\"that'd\": \"that would\", \"that'd've\": \"that would have\", \"that's\": \"that is\", \"there'd\": \"there would\",\"there'd've\": \"there would have\", \"there's\": \"there is\", \"here's\": \"here is\",\"they'd\": \"they would\", \"they'd've\": \"they would have\",\"they'll\": \"they will\", \"they'll've\": \"they will have\", \"they're\": \"they are\", \"they've\": \"they have\", \"to've\": \"to have\",\"wasn't\": \"was not\", \"we'd\": \"we would\", \"we'd've\": \"we would have\", \"we'll\": \"we will\", \"we'll've\": \"we will have\", \"we're\": \"we are\",\"we've\": \"we have\", \"weren't\": \"were not\", \"what'll\": \"what will\", \"what'll've\": \"what will have\", \"what're\": \"what are\",\"what's\": \"what is\", \"what've\": \"what have\", \"when's\": \"when is\", \"when've\": \"when have\", \"where'd\": \"where did\", \"where's\": \"where is\",\"where've\": \"where have\", \"who'll\": \"who will\", \"who'll've\": \"who will have\", \"who's\": \"who is\", \"who've\": \"who have\",\"why's\": \"why is\", \"why've\": \"why have\", \"will've\": \"will have\", \"won't\": \"will not\", \"won't've\": \"will not have\",\"would've\": \"would have\", \"wouldn't\": \"would not\", \"wouldn't've\": \"would not have\", \"y'all\": \"you all\",\"y'all'd\": \"you all would\",\"y'all'd've\": \"you all would have\",\"y'all're\": \"you all are\",\"y'all've\": \"you all have\",\"you'd\": \"you would\", \"you'd've\": \"you would have\", \"you'll\": \"you will\", \"you'll've\": \"you will have\",\"you're\": \"you are\", \"you've\": \"you have\"}"
   ]
  },
  {
   "cell_type": "code",
   "execution_count": 30,
   "id": "712a61ff-1708-4135-a719-bee076ddc8af",
   "metadata": {},
   "outputs": [],
   "source": [
    "import re\n",
    "\n",
    "def text_cleaner(text: str) -> str:\n",
    "    text = text.lower().strip().replace('\\n', '')\n",
    "    text = text.replace(\"<br />\", \" \").replace(\"\\s+\", \"\")\n",
    "    text = ' '.join([contraction_mapping[t] if t in contraction_mapping else t for t in text.split(\" \")])  \n",
    "    text = re.sub(r\"'s\\b\",\"\", text)\n",
    "    text = re.sub(\"[^a-zA-Z0-9\\!\\.\\\",\\']\", \" \", text)\n",
    "    text = BeautifulSoup(text, \"lxml\").text\n",
    "    \n",
    "    return text\n",
    "    "
   ]
  },
  {
   "cell_type": "markdown",
   "id": "24068454-9a60-4572-9215-e8ca693ea281",
   "metadata": {},
   "source": [
    "Small sanity test for `text_cleaner`"
   ]
  },
  {
   "cell_type": "code",
   "execution_count": 31,
   "id": "09767270-4a13-44f7-ad8f-b1d69542f978",
   "metadata": {},
   "outputs": [
    {
     "name": "stdout",
     "output_type": "stream",
     "text": [
      "The variety packs taste great!<br /><br />I have them every morning. At $0.30 cents per meal, I don't understand why everyone on earth isn't buying this stuff up.<br /><br />Maple and brown sugar is terrific, followed by apples and cinnamon, followed by regular. You don't get tired of the same ole thing, and they taste great.<br /><br />I just boil water from a small pot, empty the packet or 2 in a bowl, pour in boiling water, and watch it expand to 2x its size!<br /><br />Taste really good and takes minutes to prepare.<br /><br />Not sure why everyone on earth isn't this. Convenient, healthy, very quick, excellent quality, and extremely cheap...\n"
     ]
    }
   ],
   "source": [
    "sample = \"The variety packs taste great!<br /><br />I have them every morning. At $0.30 cents per meal, I don't understand why everyone on earth isn't buying this stuff up.<br /><br />Maple and brown sugar is terrific, followed by apples and cinnamon, followed by regular. You don't get tired of the same ole thing, and they taste great.<br /><br />I just boil water from a small pot, empty the packet or 2 in a bowl, pour in boiling water, and watch it expand to 2x its size!<br /><br />Taste really good and takes minutes to prepare.<br /><br />Not sure why everyone on earth isn't this. Convenient, healthy, very quick, excellent quality, and extremely cheap...\"\n",
    "print(sample)"
   ]
  },
  {
   "cell_type": "code",
   "execution_count": 32,
   "id": "c9721eb7-32b4-4c71-b3c0-272e69a05298",
   "metadata": {},
   "outputs": [
    {
     "data": {
      "text/plain": [
       "'the variety packs taste great!  i have them every morning. at  0.30 cents per meal, i do not understand why everyone on earth is not buying this stuff up.  maple and brown sugar is terrific, followed by apples and cinnamon, followed by regular. you do not get tired of the same ole thing, and they taste great.  i just boil water from a small pot, empty the packet or 2 in a bowl, pour in boiling water, and watch it expand to 2x its size!  taste really good and takes minutes to prepare.  not sure why everyone on earth is not this. convenient, healthy, very quick, excellent quality, and extremely cheap...'"
      ]
     },
     "execution_count": 32,
     "metadata": {},
     "output_type": "execute_result"
    }
   ],
   "source": [
    "text_cleaner(sample)"
   ]
  },
  {
   "cell_type": "markdown",
   "id": "661aa79f-26ba-4c4f-8d4f-a765d9aa12b4",
   "metadata": {},
   "source": [
    "**Clean every record of the dataframe**"
   ]
  },
  {
   "cell_type": "code",
   "execution_count": 37,
   "id": "967ad7f4-7021-469a-9a93-f850051f06db",
   "metadata": {},
   "outputs": [
    {
     "name": "stderr",
     "output_type": "stream",
     "text": [
      "100%|██████████| 568427/568427 [01:16<00:00, 7438.01it/s]\n",
      " 25%|██▌       | 144776/568427 [00:16<00:47, 8955.66it/s]/home/erik/.cache/pypoetry/virtualenvs/dd2424-text-summarization-GSmT3uUC-py3.8/lib/python3.8/site-packages/bs4/__init__.py:332: MarkupResemblesLocatorWarning: \".\" looks like a filename, not markup. You should probably open this file and pass the filehandle into Beautiful Soup.\n",
      "  warnings.warn(\n",
      "100%|██████████| 568427/568427 [01:03<00:00, 8936.38it/s]\n"
     ]
    },
    {
     "name": "stdout",
     "output_type": "stream",
     "text": [
      "<class 'pandas.core.frame.DataFrame'>\n",
      "Int64Index: 568349 entries, 0 to 568453\n",
      "Data columns (total 2 columns):\n",
      " #   Column   Non-Null Count   Dtype \n",
      "---  ------   --------------   ----- \n",
      " 0   Text     568349 non-null  object\n",
      " 1   Summary  568349 non-null  object\n",
      "dtypes: object(2)\n",
      "memory usage: 13.0+ MB\n"
     ]
    }
   ],
   "source": [
    "clean_text = []\n",
    "for t in tqdm(df['Text']):\n",
    "    clean_text.append(text_cleaner(t))\n",
    "\n",
    "clean_summary = []\n",
    "for t in tqdm(df['Summary']):\n",
    "    clean_summary.append(text_cleaner(t))\n",
    "    \n",
    "df['Text'] = clean_text\n",
    "df['Summary'] = clean_summary\n",
    "\n",
    "df.replace('', np.nan, inplace=True)\n",
    "df.dropna(axis=0, inplace=True)\n",
    "df.info()"
   ]
  },
  {
   "cell_type": "code",
   "execution_count": 38,
   "id": "2f8ea2d7-4180-46e8-bd90-d5a68ec5f677",
   "metadata": {},
   "outputs": [
    {
     "data": {
      "text/html": [
       "<div>\n",
       "<style scoped>\n",
       "    .dataframe tbody tr th:only-of-type {\n",
       "        vertical-align: middle;\n",
       "    }\n",
       "\n",
       "    .dataframe tbody tr th {\n",
       "        vertical-align: top;\n",
       "    }\n",
       "\n",
       "    .dataframe thead th {\n",
       "        text-align: right;\n",
       "    }\n",
       "</style>\n",
       "<table border=\"1\" class=\"dataframe\">\n",
       "  <thead>\n",
       "    <tr style=\"text-align: right;\">\n",
       "      <th></th>\n",
       "      <th>Text</th>\n",
       "      <th>Summary</th>\n",
       "    </tr>\n",
       "  </thead>\n",
       "  <tbody>\n",
       "    <tr>\n",
       "      <th>0</th>\n",
       "      <td>i have bought several of the vitality canned d...</td>\n",
       "      <td>good quality dog food</td>\n",
       "    </tr>\n",
       "    <tr>\n",
       "      <th>1</th>\n",
       "      <td>product arrived labeled as jumbo salted peanut...</td>\n",
       "      <td>not as advertised</td>\n",
       "    </tr>\n",
       "    <tr>\n",
       "      <th>2</th>\n",
       "      <td>this is a confection that has been around a fe...</td>\n",
       "      <td>\"delight\" says it all</td>\n",
       "    </tr>\n",
       "    <tr>\n",
       "      <th>3</th>\n",
       "      <td>if you are looking for the secret ingredient i...</td>\n",
       "      <td>cough medicine</td>\n",
       "    </tr>\n",
       "    <tr>\n",
       "      <th>4</th>\n",
       "      <td>great taffy at a great price.  there was a wid...</td>\n",
       "      <td>great taffy</td>\n",
       "    </tr>\n",
       "  </tbody>\n",
       "</table>\n",
       "</div>"
      ],
      "text/plain": [
       "                                                Text                Summary\n",
       "0  i have bought several of the vitality canned d...  good quality dog food\n",
       "1  product arrived labeled as jumbo salted peanut...      not as advertised\n",
       "2  this is a confection that has been around a fe...  \"delight\" says it all\n",
       "3  if you are looking for the secret ingredient i...         cough medicine\n",
       "4  great taffy at a great price.  there was a wid...            great taffy"
      ]
     },
     "execution_count": 38,
     "metadata": {},
     "output_type": "execute_result"
    }
   ],
   "source": [
    "df.head(5)"
   ]
  },
  {
   "cell_type": "markdown",
   "id": "82b8b492-0ab6-4f9c-989a-cfd23268cdab",
   "metadata": {},
   "source": [
    "## 3. Dataset statistics"
   ]
  },
  {
   "cell_type": "code",
   "execution_count": 40,
   "id": "01917770-6222-4834-8d9d-b4e7a495d1ea",
   "metadata": {},
   "outputs": [
    {
     "data": {
      "image/png": "[encoded data removed]",
      "text/plain": [
       "<Figure size 432x288 with 2 Axes>"
      ]
     },
     "metadata": {
      "needs_background": "light"
     },
     "output_type": "display_data"
    }
   ],
   "source": [
    "text_word_count = []\n",
    "summary_word_count = []\n",
    "\n",
    "# populate the lists with sentence lengths\n",
    "for i in df['Text']:\n",
    "    temp = i.split()\n",
    "    text_word_count.append(len(temp))\n",
    "\n",
    "for j in df['Summary']:\n",
    "    temp = j.split()\n",
    "    summary_word_count.append(len(temp))\n",
    "\n",
    "length_df = pd.DataFrame({'text': text_word_count, 'headline': summary_word_count})\n",
    "length_df.hist(bins = 30,range=[0,500])\n",
    "plt.show()"
   ]
  },
  {
   "cell_type": "markdown",
   "id": "e79d82dc-d8f0-4458-88d7-bc6df4a67bc9",
   "metadata": {},
   "source": [
    "## 4. Dataset splitting\n",
    "\n",
    "In this step, we're going to divide the data into training/testing partitions with the proportions of 80/20"
   ]
  },
  {
   "cell_type": "code",
   "execution_count": 46,
   "id": "cddecf00-1e20-4536-ba0f-a5b756cc0880",
   "metadata": {},
   "outputs": [],
   "source": [
    "from sklearn.model_selection import train_test_split\n",
    "x_train, x_test, y_train, y_test = train_test_split(df['Text'], df['Summary'], test_size=0.2, random_state=0, shuffle=True)"
   ]
  },
  {
   "cell_type": "code",
   "execution_count": 47,
   "id": "e93bcc7e-4fec-4731-b899-e82cf019b759",
   "metadata": {},
   "outputs": [
    {
     "name": "stdout",
     "output_type": "stream",
     "text": [
      "454679\n",
      "454679\n"
     ]
    }
   ],
   "source": [
    "print(len(x_train))\n",
    "print(len(y_train))"
   ]
  },
  {
   "cell_type": "markdown",
   "id": "7ac95557-7b49-43be-85cf-fdc2f0c37211",
   "metadata": {},
   "source": [
    "**Create training dataframe**"
   ]
  },
  {
   "cell_type": "code",
   "execution_count": 48,
   "id": "9a8f9727-17db-40da-bd14-07b3c8b33b97",
   "metadata": {},
   "outputs": [
    {
     "name": "stdout",
     "output_type": "stream",
     "text": [
      "<class 'pandas.core.frame.DataFrame'>\n",
      "Int64Index: 454679 entries, 390352 to 305768\n",
      "Data columns (total 2 columns):\n",
      " #   Column   Non-Null Count   Dtype \n",
      "---  ------   --------------   ----- \n",
      " 0   text     454679 non-null  object\n",
      " 1   summary  454679 non-null  object\n",
      "dtypes: object(2)\n",
      "memory usage: 10.4+ MB\n"
     ]
    }
   ],
   "source": [
    "train_df = pd.DataFrame({'text': x_train, 'summary': y_train})\n",
    "train_df.info()"
   ]
  },
  {
   "cell_type": "code",
   "execution_count": 50,
   "id": "de3525c2-b07a-4fea-9dcd-ece7699bf813",
   "metadata": {},
   "outputs": [
    {
     "data": {
      "text/html": [
       "<div>\n",
       "<style scoped>\n",
       "    .dataframe tbody tr th:only-of-type {\n",
       "        vertical-align: middle;\n",
       "    }\n",
       "\n",
       "    .dataframe tbody tr th {\n",
       "        vertical-align: top;\n",
       "    }\n",
       "\n",
       "    .dataframe thead th {\n",
       "        text-align: right;\n",
       "    }\n",
       "</style>\n",
       "<table border=\"1\" class=\"dataframe\">\n",
       "  <thead>\n",
       "    <tr style=\"text-align: right;\">\n",
       "      <th></th>\n",
       "      <th>text</th>\n",
       "      <th>summary</th>\n",
       "    </tr>\n",
       "  </thead>\n",
       "  <tbody>\n",
       "    <tr>\n",
       "      <th>390352</th>\n",
       "      <td>yes, it is usually comes in crumbs form. like ...</td>\n",
       "      <td>best crumbs ever</td>\n",
       "    </tr>\n",
       "    <tr>\n",
       "      <th>337248</th>\n",
       "      <td>my husband hated this coffee. he tries all dif...</td>\n",
       "      <td>do not like it</td>\n",
       "    </tr>\n",
       "    <tr>\n",
       "      <th>57784</th>\n",
       "      <td>gummi candy is great and it does not get any b...</td>\n",
       "      <td>haribo gummi candy</td>\n",
       "    </tr>\n",
       "    <tr>\n",
       "      <th>553588</th>\n",
       "      <td>i can barely eat one of these without risk of ...</td>\n",
       "      <td>hard as bricks</td>\n",
       "    </tr>\n",
       "    <tr>\n",
       "      <th>361344</th>\n",
       "      <td>this is a great product and the price is the b...</td>\n",
       "      <td>best product</td>\n",
       "    </tr>\n",
       "    <tr>\n",
       "      <th>244653</th>\n",
       "      <td>these are the best low fat refried beans i hav...</td>\n",
       "      <td>great taste for low fat</td>\n",
       "    </tr>\n",
       "    <tr>\n",
       "      <th>547634</th>\n",
       "      <td>there is no comparison to those other \"low fat...</td>\n",
       "      <td>new favorite chips</td>\n",
       "    </tr>\n",
       "    <tr>\n",
       "      <th>502658</th>\n",
       "      <td>these are great!  they taste very fresh and ha...</td>\n",
       "      <td>delicious!</td>\n",
       "    </tr>\n",
       "    <tr>\n",
       "      <th>265138</th>\n",
       "      <td>we now have another gluten free hit! we do not...</td>\n",
       "      <td>brown lovely when you bake them just a little ...</td>\n",
       "    </tr>\n",
       "    <tr>\n",
       "      <th>134244</th>\n",
       "      <td>i use this coffee as a compromise between tast...</td>\n",
       "      <td>much less expensive at the supermarket</td>\n",
       "    </tr>\n",
       "  </tbody>\n",
       "</table>\n",
       "</div>"
      ],
      "text/plain": [
       "                                                     text  \\\n",
       "390352  yes, it is usually comes in crumbs form. like ...   \n",
       "337248  my husband hated this coffee. he tries all dif...   \n",
       "57784   gummi candy is great and it does not get any b...   \n",
       "553588  i can barely eat one of these without risk of ...   \n",
       "361344  this is a great product and the price is the b...   \n",
       "244653  these are the best low fat refried beans i hav...   \n",
       "547634  there is no comparison to those other \"low fat...   \n",
       "502658  these are great!  they taste very fresh and ha...   \n",
       "265138  we now have another gluten free hit! we do not...   \n",
       "134244  i use this coffee as a compromise between tast...   \n",
       "\n",
       "                                                  summary  \n",
       "390352                                   best crumbs ever  \n",
       "337248                                     do not like it  \n",
       "57784                                  haribo gummi candy  \n",
       "553588                                     hard as bricks  \n",
       "361344                                       best product  \n",
       "244653                            great taste for low fat  \n",
       "547634                                 new favorite chips  \n",
       "502658                                         delicious!  \n",
       "265138  brown lovely when you bake them just a little ...  \n",
       "134244             much less expensive at the supermarket  "
      ]
     },
     "execution_count": 50,
     "metadata": {},
     "output_type": "execute_result"
    }
   ],
   "source": [
    "train_df.head(10)"
   ]
  },
  {
   "cell_type": "markdown",
   "id": "5d7e95ac-28d2-4305-ab83-260d0d599a27",
   "metadata": {},
   "source": [
    "Save the data to file"
   ]
  },
  {
   "cell_type": "code",
   "execution_count": 52,
   "id": "33057e75-6dcd-417d-9892-ec845cc63ed7",
   "metadata": {},
   "outputs": [],
   "source": [
    "TRAIN_PATH = os.path.join(DATA_DIR, 'train.csv')\n",
    "train_df.to_csv(TRAIN_PATH, index=False)"
   ]
  },
  {
   "cell_type": "markdown",
   "id": "d3e2b356-73ed-479e-a177-9a91cb803639",
   "metadata": {},
   "source": [
    "**Create testing dataframe**"
   ]
  },
  {
   "cell_type": "code",
   "execution_count": 53,
   "id": "1132aa58-be33-42d6-a98d-28f9d06491af",
   "metadata": {},
   "outputs": [
    {
     "name": "stdout",
     "output_type": "stream",
     "text": [
      "<class 'pandas.core.frame.DataFrame'>\n",
      "Int64Index: 113670 entries, 64922 to 405071\n",
      "Data columns (total 2 columns):\n",
      " #   Column   Non-Null Count   Dtype \n",
      "---  ------   --------------   ----- \n",
      " 0   text     113670 non-null  object\n",
      " 1   summary  113670 non-null  object\n",
      "dtypes: object(2)\n",
      "memory usage: 2.6+ MB\n"
     ]
    }
   ],
   "source": [
    "test_df = pd.DataFrame({'text': x_test, 'summary': y_test})\n",
    "test_df.info()"
   ]
  },
  {
   "cell_type": "code",
   "execution_count": 54,
   "id": "58acb9f8-5289-4ba4-8c5b-8f315dfde9db",
   "metadata": {},
   "outputs": [],
   "source": [
    "TEST_PATH = os.path.join(DATA_DIR, 'test.csv')\n",
    "test_df.to_csv(TEST_PATH, index=False)"
   ]
  }
 ],
 "metadata": {
  "kernelspec": {
   "display_name": "Python 3",
   "language": "python",
   "name": "python3"
  },
  "language_info": {
   "codemirror_mode": {
    "name": "ipython",
    "version": 3
   },
   "file_extension": ".py",
   "mimetype": "text/x-python",
   "name": "python",
   "nbconvert_exporter": "python",
   "pygments_lexer": "ipython3",
   "version": "3.8.5"
  }
 },
 "nbformat": 4,
 "nbformat_minor": 5
}
