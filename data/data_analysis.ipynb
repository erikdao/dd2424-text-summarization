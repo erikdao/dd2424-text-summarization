{
 "cells": [
  {
   "cell_type": "markdown",
   "id": "580accdb-c8ab-42ca-a4b8-32142a726d22",
   "metadata": {},
   "source": [
    "# Data Analysis\n",
    "\n",
    "The purpose is to perform some statistical analysis on the data"
   ]
  },
  {
   "cell_type": "code",
   "execution_count": 14,
   "id": "a28b3f88-401d-4b5b-b718-18d076d96fd4",
   "metadata": {},
   "outputs": [],
   "source": [
    "import os\n",
    "import pickle\n",
    "import numpy as np\n",
    "import pandas as pd\n",
    "import matplotlib.pyplot as plt\n",
    "import seaborn as sns\n",
    "from tqdm import tqdm\n",
    "\n",
    "%matplotlib inline\n",
    "np.random.seed(1)"
   ]
  },
  {
   "cell_type": "markdown",
   "id": "0ba09314-41a2-4759-817a-9a84f67ecfa2",
   "metadata": {},
   "source": [
    "**Setup directory**"
   ]
  },
  {
   "cell_type": "code",
   "execution_count": 6,
   "id": "45de4db7-7f29-4d32-8fca-34a9bef364e9",
   "metadata": {},
   "outputs": [],
   "source": [
    "PROJ_DIR = os.path.dirname(os.getcwd())\n",
    "TOKENIZED_DIR = os.path.join(PROJ_DIR, 'data', 'tokenized')"
   ]
  },
  {
   "cell_type": "markdown",
   "id": "fa96233b-2548-4d0a-8786-84320d79c1a8",
   "metadata": {},
   "source": [
    "**Read the tokenized data** from pickle"
   ]
  },
  {
   "cell_type": "code",
   "execution_count": 7,
   "id": "793a3590-86e1-4828-9c15-55d7b3df1dbe",
   "metadata": {},
   "outputs": [],
   "source": [
    "with open(TOKENIZED_DIR, 'rb') as f:\n",
    "    data = pickle.load(f)"
   ]
  },
  {
   "cell_type": "markdown",
   "id": "dbad5a8a-bff2-486d-8439-83e770b9a70c",
   "metadata": {},
   "source": [
    "We're interested in the **label** (i.e., summary) data"
   ]
  },
  {
   "cell_type": "code",
   "execution_count": 9,
   "id": "193b42c4-e501-4d52-8428-6a69a4c0ab3d",
   "metadata": {},
   "outputs": [],
   "source": [
    "summary = data['labels']"
   ]
  },
  {
   "cell_type": "code",
   "execution_count": 15,
   "id": "bbf4f6fc-124a-40c8-8afd-a7f27db6f1b5",
   "metadata": {},
   "outputs": [
    {
     "name": "stderr",
     "output_type": "stream",
     "text": [
      "568427it [00:00, 652112.61it/s]\n"
     ]
    }
   ],
   "source": [
    "vocab = dict()\n",
    "sentence_length = dict()\n",
    "\n",
    "for idx, label in tqdm(enumerate(summary)):\n",
    "    if len(label) == 0:\n",
    "        continue\n",
    "    \n",
    "    sentence_length[idx] = len(label)\n",
    "    for token_pair in label:\n",
    "        token = token_pair[0]\n",
    "        if token not in vocab.keys():\n",
    "            vocab[token] = 1\n",
    "        else:\n",
    "            vocab[token] += 1"
   ]
  },
  {
   "cell_type": "code",
   "execution_count": 39,
   "id": "a0365680-0584-4915-8772-9a730db265dd",
   "metadata": {},
   "outputs": [],
   "source": [
    "sorted_vocab = {k: v for k, v in sorted(vocab.items(), key=lambda item: item[1], reverse=True) if k not in ['!', ',', '.', '...']}"
   ]
  },
  {
   "cell_type": "code",
   "execution_count": 40,
   "id": "d866c75a-c47d-4d65-a77a-47112af641f9",
   "metadata": {},
   "outputs": [],
   "source": [
    "sample = dict()\n",
    "count = 0\n",
    "for k, v in sorted_vocab.items():\n",
    "    count += 1\n",
    "    if count > 30:\n",
    "        break\n",
    "    sample[k] = v"
   ]
  },
  {
   "cell_type": "code",
   "execution_count": 41,
   "id": "ee675e66-a2f7-48c9-86dd-abe3d3bf0a8a",
   "metadata": {},
   "outputs": [
    {
     "data": {
      "text/html": [
       "<div>\n",
       "<style scoped>\n",
       "    .dataframe tbody tr th:only-of-type {\n",
       "        vertical-align: middle;\n",
       "    }\n",
       "\n",
       "    .dataframe tbody tr th {\n",
       "        vertical-align: top;\n",
       "    }\n",
       "\n",
       "    .dataframe thead th {\n",
       "        text-align: right;\n",
       "    }\n",
       "</style>\n",
       "<table border=\"1\" class=\"dataframe\">\n",
       "  <thead>\n",
       "    <tr style=\"text-align: right;\">\n",
       "      <th></th>\n",
       "      <th>word</th>\n",
       "      <th>count</th>\n",
       "    </tr>\n",
       "  </thead>\n",
       "  <tbody>\n",
       "    <tr>\n",
       "      <th>0</th>\n",
       "      <td>great</td>\n",
       "      <td>73043</td>\n",
       "    </tr>\n",
       "    <tr>\n",
       "      <th>1</th>\n",
       "      <td>the</td>\n",
       "      <td>55555</td>\n",
       "    </tr>\n",
       "    <tr>\n",
       "      <th>2</th>\n",
       "      <td>good</td>\n",
       "      <td>51860</td>\n",
       "    </tr>\n",
       "  </tbody>\n",
       "</table>\n",
       "</div>"
      ],
      "text/plain": [
       "    word  count\n",
       "0  great  73043\n",
       "1    the  55555\n",
       "2   good  51860"
      ]
     },
     "execution_count": 41,
     "metadata": {},
     "output_type": "execute_result"
    }
   ],
   "source": [
    "df = pd.DataFrame(list(sample.items()), columns=['word', 'count'])\n",
    "df.head(3)"
   ]
  },
  {
   "cell_type": "code",
   "execution_count": 42,
   "id": "c86a5be0-c203-4bf6-99d3-9a044c37424f",
   "metadata": {},
   "outputs": [
    {
     "data": {
      "image/png": "[encoded data removed]",
      "text/plain": [
       "<Figure size 864x216 with 1 Axes>"
      ]
     },
     "metadata": {
      "needs_background": "light"
     },
     "output_type": "display_data"
    }
   ],
   "source": [
    "fig, ax = plt.subplots(figsize=(12, 3))\n",
    "sns.barplot(data=df, x='word', y='count', ax=ax)\n",
    "plt.title(\"Frequency of top-30 tokens\", pad=12)\n",
    "fig.savefig('./top30-feq.png', bbox_inches='tight')"
   ]
  }
 ],
 "metadata": {
  "kernelspec": {
   "display_name": "Python 3",
   "language": "python",
   "name": "python3"
  },
  "language_info": {
   "codemirror_mode": {
    "name": "ipython",
    "version": 3
   },
   "file_extension": ".py",
   "mimetype": "text/x-python",
   "name": "python",
   "nbconvert_exporter": "python",
   "pygments_lexer": "ipython3",
   "version": "3.8.5"
  }
 },
 "nbformat": 4,
 "nbformat_minor": 5
}
