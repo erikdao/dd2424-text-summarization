{
 "cells": [
  {
   "cell_type": "markdown",
   "id": "20e49fce-dbb9-44ed-bd51-f703455ebd6d",
   "metadata": {},
   "source": [
    "# Data Cleaning\n",
    "\n",
    "This notebook is another attempt on data cleaning on May 22nd, 2021"
   ]
  },
  {
   "cell_type": "code",
   "execution_count": 28,
   "id": "0352b7dd-ac61-4e6b-8c9e-1a7445dcc2b8",
   "metadata": {},
   "outputs": [],
   "source": [
    "import os\n",
    "import re\n",
    "import spacy\n",
    "import typing\n",
    "import numpy as np\n",
    "import pandas as pd\n",
    "from bs4 import BeautifulSoup\n",
    "from tqdm import tqdm\n",
    "import matplotlib.pyplot as plt\n",
    "\n",
    "np.random.seed(1)\n",
    "%matplotlib inline"
   ]
  },
  {
   "cell_type": "markdown",
   "id": "bd983251-ec9d-46aa-bd6c-219cb3e59dd5",
   "metadata": {},
   "source": [
    "## 1. Read the data"
   ]
  },
  {
   "cell_type": "code",
   "execution_count": 2,
   "id": "0028fe28-b173-4c3e-87fc-e5893edccc05",
   "metadata": {},
   "outputs": [],
   "source": [
    "PROJECT_DIR = os.path.dirname(os.getcwd())\n",
    "DATA_DIR = os.path.join(PROJECT_DIR, 'data')\n",
    "\n",
    "csv_file = os.path.join(DATA_DIR, 'amazon-product-reviews', 'Reviews.csv')"
   ]
  },
  {
   "cell_type": "code",
   "execution_count": 5,
   "id": "0479e9aa-eb3f-4d52-800c-aa8cc0d0d6c1",
   "metadata": {},
   "outputs": [
    {
     "name": "stdout",
     "output_type": "stream",
     "text": [
      "<class 'pandas.core.frame.DataFrame'>\n",
      "RangeIndex: 568454 entries, 0 to 568453\n",
      "Data columns (total 10 columns):\n",
      " #   Column                  Non-Null Count   Dtype \n",
      "---  ------                  --------------   ----- \n",
      " 0   Id                      568454 non-null  int64 \n",
      " 1   ProductId               568454 non-null  object\n",
      " 2   UserId                  568454 non-null  object\n",
      " 3   ProfileName             568438 non-null  object\n",
      " 4   HelpfulnessNumerator    568454 non-null  int64 \n",
      " 5   HelpfulnessDenominator  568454 non-null  int64 \n",
      " 6   Score                   568454 non-null  int64 \n",
      " 7   Time                    568454 non-null  int64 \n",
      " 8   Summary                 568427 non-null  object\n",
      " 9   Text                    568454 non-null  object\n",
      "dtypes: int64(5), object(5)\n",
      "memory usage: 43.4+ MB\n"
     ]
    }
   ],
   "source": [
    "df = pd.read_csv(csv_file, encoding='latin-1')\n",
    "df.info()"
   ]
  },
  {
   "cell_type": "code",
   "execution_count": 7,
   "id": "b69ce918-381f-4809-a424-b6c12408d872",
   "metadata": {},
   "outputs": [
    {
     "data": {
      "text/html": [
       "<div>\n",
       "<style scoped>\n",
       "    .dataframe tbody tr th:only-of-type {\n",
       "        vertical-align: middle;\n",
       "    }\n",
       "\n",
       "    .dataframe tbody tr th {\n",
       "        vertical-align: top;\n",
       "    }\n",
       "\n",
       "    .dataframe thead th {\n",
       "        text-align: right;\n",
       "    }\n",
       "</style>\n",
       "<table border=\"1\" class=\"dataframe\">\n",
       "  <thead>\n",
       "    <tr style=\"text-align: right;\">\n",
       "      <th></th>\n",
       "      <th>Id</th>\n",
       "      <th>ProductId</th>\n",
       "      <th>UserId</th>\n",
       "      <th>ProfileName</th>\n",
       "      <th>HelpfulnessNumerator</th>\n",
       "      <th>HelpfulnessDenominator</th>\n",
       "      <th>Score</th>\n",
       "      <th>Time</th>\n",
       "      <th>Summary</th>\n",
       "      <th>Text</th>\n",
       "    </tr>\n",
       "  </thead>\n",
       "  <tbody>\n",
       "    <tr>\n",
       "      <th>29</th>\n",
       "      <td>30</td>\n",
       "      <td>B0001PB9FY</td>\n",
       "      <td>A3HDKO7OW0QNK4</td>\n",
       "      <td>Canadian Fan</td>\n",
       "      <td>1</td>\n",
       "      <td>1</td>\n",
       "      <td>5</td>\n",
       "      <td>1107820800</td>\n",
       "      <td>The Best Hot Sauce in the World</td>\n",
       "      <td>I don't know if it's the cactus or the tequila...</td>\n",
       "    </tr>\n",
       "    <tr>\n",
       "      <th>574</th>\n",
       "      <td>575</td>\n",
       "      <td>B000G6RYNE</td>\n",
       "      <td>A3PJZ8TU8FDQ1K</td>\n",
       "      <td>Jared Castle</td>\n",
       "      <td>2</td>\n",
       "      <td>2</td>\n",
       "      <td>5</td>\n",
       "      <td>1231718400</td>\n",
       "      <td>One bite and you'll become a \"chippoisseur\"</td>\n",
       "      <td>I'm addicted to salty and tangy flavors, so wh...</td>\n",
       "    </tr>\n",
       "    <tr>\n",
       "      <th>603</th>\n",
       "      <td>604</td>\n",
       "      <td>B000G6RYNE</td>\n",
       "      <td>A3PJZ8TU8FDQ1K</td>\n",
       "      <td>Jared Castle</td>\n",
       "      <td>1</td>\n",
       "      <td>1</td>\n",
       "      <td>5</td>\n",
       "      <td>1229385600</td>\n",
       "      <td>One bite and you'll become a \"chippoisseur\"</td>\n",
       "      <td>I'm addicted to salty and tangy flavors, so wh...</td>\n",
       "    </tr>\n",
       "    <tr>\n",
       "      <th>1973</th>\n",
       "      <td>1974</td>\n",
       "      <td>B0017165OG</td>\n",
       "      <td>A2EPNS38TTLZYN</td>\n",
       "      <td>tedebear</td>\n",
       "      <td>0</td>\n",
       "      <td>0</td>\n",
       "      <td>3</td>\n",
       "      <td>1312675200</td>\n",
       "      <td>Pok Chops</td>\n",
       "      <td>The pork chops from Omaha Steaks were very tas...</td>\n",
       "    </tr>\n",
       "    <tr>\n",
       "      <th>2309</th>\n",
       "      <td>2310</td>\n",
       "      <td>B0001VWE0M</td>\n",
       "      <td>AQM74O8Z4FMS0</td>\n",
       "      <td>Sunshine</td>\n",
       "      <td>0</td>\n",
       "      <td>0</td>\n",
       "      <td>2</td>\n",
       "      <td>1127606400</td>\n",
       "      <td>Below standard</td>\n",
       "      <td>Too much of the white pith on this orange peel...</td>\n",
       "    </tr>\n",
       "    <tr>\n",
       "      <th>2323</th>\n",
       "      <td>2324</td>\n",
       "      <td>B0001VWE0C</td>\n",
       "      <td>AQM74O8Z4FMS0</td>\n",
       "      <td>Sunshine</td>\n",
       "      <td>0</td>\n",
       "      <td>0</td>\n",
       "      <td>2</td>\n",
       "      <td>1127606400</td>\n",
       "      <td>Below standard</td>\n",
       "      <td>Too much of the white pith on this orange peel...</td>\n",
       "    </tr>\n",
       "    <tr>\n",
       "      <th>2336</th>\n",
       "      <td>2337</td>\n",
       "      <td>B0001FQVCK</td>\n",
       "      <td>A5D06XJHDXK75</td>\n",
       "      <td>C. Po</td>\n",
       "      <td>1</td>\n",
       "      <td>1</td>\n",
       "      <td>5</td>\n",
       "      <td>1190592000</td>\n",
       "      <td>Baci's are pure heaven - great gift, stocking ...</td>\n",
       "      <td>My family has been in love with Baci's ever si...</td>\n",
       "    </tr>\n",
       "    <tr>\n",
       "      <th>2647</th>\n",
       "      <td>2648</td>\n",
       "      <td>B0016FY6H6</td>\n",
       "      <td>A2NLZ3M0OJV9NX</td>\n",
       "      <td>Mark Bodzin</td>\n",
       "      <td>0</td>\n",
       "      <td>0</td>\n",
       "      <td>2</td>\n",
       "      <td>1313107200</td>\n",
       "      <td>way too weak for my tastes</td>\n",
       "      <td>What can i say, I love iced tea. I drink a lot...</td>\n",
       "    </tr>\n",
       "    <tr>\n",
       "      <th>2653</th>\n",
       "      <td>2654</td>\n",
       "      <td>B0016FY6H6</td>\n",
       "      <td>A3I4PCBRENJNG2</td>\n",
       "      <td>L. Cain</td>\n",
       "      <td>0</td>\n",
       "      <td>0</td>\n",
       "      <td>4</td>\n",
       "      <td>1300579200</td>\n",
       "      <td>quality lightly sweetened green tea powder</td>\n",
       "      <td>lots of uses for this green tea...&lt;br /&gt;&lt;br /&gt;...</td>\n",
       "    </tr>\n",
       "    <tr>\n",
       "      <th>2946</th>\n",
       "      <td>2947</td>\n",
       "      <td>B0002TJAZK</td>\n",
       "      <td>A2ISKAWUPGGOLZ</td>\n",
       "      <td>M. S. Handley</td>\n",
       "      <td>0</td>\n",
       "      <td>1</td>\n",
       "      <td>1</td>\n",
       "      <td>1310774400</td>\n",
       "      <td>Kitty Junk Food</td>\n",
       "      <td>We have five cats - one an elderly cat of 15 y...</td>\n",
       "    </tr>\n",
       "  </tbody>\n",
       "</table>\n",
       "</div>"
      ],
      "text/plain": [
       "        Id   ProductId          UserId    ProfileName  HelpfulnessNumerator  \\\n",
       "29      30  B0001PB9FY  A3HDKO7OW0QNK4   Canadian Fan                     1   \n",
       "574    575  B000G6RYNE  A3PJZ8TU8FDQ1K   Jared Castle                     2   \n",
       "603    604  B000G6RYNE  A3PJZ8TU8FDQ1K   Jared Castle                     1   \n",
       "1973  1974  B0017165OG  A2EPNS38TTLZYN       tedebear                     0   \n",
       "2309  2310  B0001VWE0M   AQM74O8Z4FMS0       Sunshine                     0   \n",
       "2323  2324  B0001VWE0C   AQM74O8Z4FMS0       Sunshine                     0   \n",
       "2336  2337  B0001FQVCK   A5D06XJHDXK75          C. Po                     1   \n",
       "2647  2648  B0016FY6H6  A2NLZ3M0OJV9NX    Mark Bodzin                     0   \n",
       "2653  2654  B0016FY6H6  A3I4PCBRENJNG2        L. Cain                     0   \n",
       "2946  2947  B0002TJAZK  A2ISKAWUPGGOLZ  M. S. Handley                     0   \n",
       "\n",
       "      HelpfulnessDenominator  Score        Time  \\\n",
       "29                         1      5  1107820800   \n",
       "574                        2      5  1231718400   \n",
       "603                        1      5  1229385600   \n",
       "1973                       0      3  1312675200   \n",
       "2309                       0      2  1127606400   \n",
       "2323                       0      2  1127606400   \n",
       "2336                       1      5  1190592000   \n",
       "2647                       0      2  1313107200   \n",
       "2653                       0      4  1300579200   \n",
       "2946                       1      1  1310774400   \n",
       "\n",
       "                                                Summary  \\\n",
       "29                      The Best Hot Sauce in the World   \n",
       "574         One bite and you'll become a \"chippoisseur\"   \n",
       "603         One bite and you'll become a \"chippoisseur\"   \n",
       "1973                                          Pok Chops   \n",
       "2309                                     Below standard   \n",
       "2323                                     Below standard   \n",
       "2336  Baci's are pure heaven - great gift, stocking ...   \n",
       "2647                         way too weak for my tastes   \n",
       "2653         quality lightly sweetened green tea powder   \n",
       "2946                                    Kitty Junk Food   \n",
       "\n",
       "                                                   Text  \n",
       "29    I don't know if it's the cactus or the tequila...  \n",
       "574   I'm addicted to salty and tangy flavors, so wh...  \n",
       "603   I'm addicted to salty and tangy flavors, so wh...  \n",
       "1973  The pork chops from Omaha Steaks were very tas...  \n",
       "2309  Too much of the white pith on this orange peel...  \n",
       "2323  Too much of the white pith on this orange peel...  \n",
       "2336  My family has been in love with Baci's ever si...  \n",
       "2647  What can i say, I love iced tea. I drink a lot...  \n",
       "2653  lots of uses for this green tea...<br /><br />...  \n",
       "2946  We have five cats - one an elderly cat of 15 y...  "
      ]
     },
     "execution_count": 7,
     "metadata": {},
     "output_type": "execute_result"
    }
   ],
   "source": [
    "duplicated = df[df.duplicated(subset=['Text'])]\n",
    "duplicated.head(10)"
   ]
  },
  {
   "cell_type": "markdown",
   "id": "63bd674e-8518-4a08-8364-ea40093a2197",
   "metadata": {},
   "source": [
    "## 2. Cleaning"
   ]
  },
  {
   "cell_type": "markdown",
   "id": "e72c35ff-d4ac-4396-b9dd-c5d064c25c6b",
   "metadata": {},
   "source": [
    "### 2.1. Deduplication of `Text`\n",
    "\n",
    "In the original dataset, there seems to have many duplications of a same Text"
   ]
  },
  {
   "cell_type": "code",
   "execution_count": 9,
   "id": "66ebb45c-f970-4342-aef3-e10df694b521",
   "metadata": {},
   "outputs": [
    {
     "name": "stdout",
     "output_type": "stream",
     "text": [
      "<class 'pandas.core.frame.DataFrame'>\n",
      "Int64Index: 393565 entries, 0 to 568453\n",
      "Data columns (total 10 columns):\n",
      " #   Column                  Non-Null Count   Dtype \n",
      "---  ------                  --------------   ----- \n",
      " 0   Id                      393565 non-null  int64 \n",
      " 1   ProductId               393565 non-null  object\n",
      " 2   UserId                  393565 non-null  object\n",
      " 3   ProfileName             393565 non-null  object\n",
      " 4   HelpfulnessNumerator    393565 non-null  int64 \n",
      " 5   HelpfulnessDenominator  393565 non-null  int64 \n",
      " 6   Score                   393565 non-null  int64 \n",
      " 7   Time                    393565 non-null  int64 \n",
      " 8   Summary                 393565 non-null  object\n",
      " 9   Text                    393565 non-null  object\n",
      "dtypes: int64(5), object(5)\n",
      "memory usage: 33.0+ MB\n"
     ]
    }
   ],
   "source": [
    "df.drop_duplicates(subset=['Text'], inplace=True)  # dropping duplicates\n",
    "df.dropna(axis=0, inplace=True)  # dropping na\n",
    "df.info()"
   ]
  },
  {
   "cell_type": "markdown",
   "id": "8ff9adcb-38aa-4669-b4ab-8e5df6d02ee6",
   "metadata": {},
   "source": [
    "### 2.2. Clean words"
   ]
  },
  {
   "cell_type": "code",
   "execution_count": 10,
   "id": "613f0491-1bd0-48cd-8ae2-5c465120656d",
   "metadata": {},
   "outputs": [],
   "source": [
    "contractions = {\n",
    "    \"ain't\": \"is not\", \"aren't\": \"are not\", \"can't\": \"cannot\", \"'cause\": \"because\", \"could've\": \"could have\",\n",
    "    \"couldn't\": \"could not\", \"didn't\": \"did not\", \"doesn't\": \"does not\", \"don't\": \"do not\", \"hadn't\": \"had not\",\n",
    "    \"hasn't\": \"has not\", \"haven't\": \"have not\", \"he'd\": \"he would\",\"he'll\": \"he will\", \"he's\": \"he is\",\n",
    "    \"how'd\": \"how did\", \"how'd'y\": \"how do you\", \"how'll\": \"how will\", \"how's\": \"how is\", \"I'd\": \"I would\",\n",
    "    \"I'd've\": \"I would have\", \"I'll\": \"I will\", \"I'll've\": \"I will have\",\"I'm\": \"I am\", \"I've\": \"I have\",\n",
    "    \"i'd\": \"i would\", \"i'd've\": \"i would have\", \"i'll\": \"i will\",  \"i'll've\": \"i will have\",\"i'm\": \"i am\",\n",
    "    \"i've\": \"i have\", \"isn't\": \"is not\", \"it'd\": \"it would\", \"it'd've\": \"it would have\", \"it'll\": \"it will\",\n",
    "    \"it'll've\": \"it will have\",\"it's\": \"it is\", \"let's\": \"let us\", \"ma'am\": \"madam\", \"mayn't\": \"may not\",\n",
    "    \"might've\": \"might have\",\"mightn't\": \"might not\",\"mightn't've\": \"might not have\", \"must've\": \"must have\",\n",
    "    \"mustn't\": \"must not\", \"mustn't've\": \"must not have\", \"needn't\": \"need not\", \"needn't've\": \"need not have\",\n",
    "    \"o'clock\": \"of the clock\", \"oughtn't\": \"ought not\", \"oughtn't've\": \"ought not have\", \"shan't\": \"shall not\",\n",
    "    \"sha'n't\": \"shall not\", \"shan't've\": \"shall not have\", \"she'd\": \"she would\", \"she'd've\": \"she would have\",\n",
    "    \"she'll\": \"she will\", \"she'll've\": \"she will have\", \"she's\": \"she is\", \"should've\": \"should have\",\n",
    "    \"shouldn't\": \"should not\", \"shouldn't've\": \"should not have\", \"so've\": \"so have\",\"so's\": \"so as\",\n",
    "    \"this's\": \"this is\",\"that'd\": \"that would\", \"that'd've\": \"that would have\", \"that's\": \"that is\", \"there'd\": \"there would\",\n",
    "    \"there'd've\": \"there would have\", \"there's\": \"there is\", \"here's\": \"here is\",\"they'd\": \"they would\",\n",
    "    \"they'd've\": \"they would have\", \"they'll\": \"they will\", \"they'll've\": \"they will have\", \"they're\": \"they are\",\n",
    "    \"they've\": \"they have\", \"to've\": \"to have\", \"wasn't\": \"was not\", \"we'd\": \"we would\", \"we'd've\": \"we would have\",\n",
    "    \"we'll\": \"we will\", \"we'll've\": \"we will have\", \"we're\": \"we are\", \"we've\": \"we have\", \"weren't\": \"were not\",\n",
    "    \"what'll\": \"what will\", \"what'll've\": \"what will have\", \"what're\": \"what are\", \"what's\": \"what is\",\n",
    "    \"what've\": \"what have\", \"when's\": \"when is\", \"when've\": \"when have\", \"where'd\": \"where did\", \"where's\": \"where is\",\n",
    "    \"where've\": \"where have\", \"who'll\": \"who will\", \"who'll've\": \"who will have\", \"who's\": \"who is\", \"who've\": \"who have\",\n",
    "    \"why's\": \"why is\", \"why've\": \"why have\", \"will've\": \"will have\", \"won't\": \"will not\", \"won't've\": \"will not have\",\n",
    "    \"would've\": \"would have\", \"wouldn't\": \"would not\", \"wouldn't've\": \"would not have\", \"y'all\": \"you all\",\n",
    "    \"y'all'd\": \"you all would\",\"y'all'd've\": \"you all would have\",\"y'all're\": \"you all are\",\"y'all've\": \"you all have\",\n",
    "    \"you'd\": \"you would\", \"you'd've\": \"you would have\", \"you'll\": \"you will\", \"you'll've\": \"you will have\",\n",
    "    \"you're\": \"you are\", \"you've\": \"you have\"\n",
    "}"
   ]
  },
  {
   "cell_type": "markdown",
   "id": "84d01934-b3e9-4886-b8c7-1dba5df9bcad",
   "metadata": {},
   "source": [
    "Get a list of common English **stop words**\n",
    "\n",
    "I'm using NLTK stopwords instead of Spacy stopwords because I think Spacy's list contains way more words which might be helpful for our problem"
   ]
  },
  {
   "cell_type": "code",
   "execution_count": 21,
   "id": "02b2cdd2-32bc-4b44-becd-a8aecf51c7d7",
   "metadata": {},
   "outputs": [
    {
     "data": {
      "text/plain": [
       "179"
      ]
     },
     "execution_count": 21,
     "metadata": {},
     "output_type": "execute_result"
    }
   ],
   "source": [
    "stopwords = set(stopwords.words('english'))\n",
    "len(stopwords)"
   ]
  },
  {
   "cell_type": "markdown",
   "id": "e8119644-d99b-40bd-89eb-ecad3c475852",
   "metadata": {},
   "source": [
    "**Helper function to clean text**"
   ]
  },
  {
   "cell_type": "code",
   "execution_count": 30,
   "id": "0594e86a-6aec-42d2-a454-0faddaa455d0",
   "metadata": {},
   "outputs": [],
   "source": [
    "def clean_text(text: str, num: int) -> str:\n",
    "    text = text.lower().strip().replace('\\n', '')\n",
    "    text = BeautifulSoup(text, 'lxml').text  # Remove HTML tags\n",
    "    text = re.sub(r'\\([^)]*\\)', '', text)\n",
    "    text = re.sub('\"','', text)\n",
    "    text = ' '.join([contractions[t] if t in contractions else t for t in text.split(\" \")])    \n",
    "    text = re.sub(r\"'s\\b\",\"\", text)\n",
    "    text = re.sub(\"[^a-zA-Z]\", \" \", text) \n",
    "    text = re.sub('[m]{2,}', 'mm', text)\n",
    "\n",
    "    if(num == 0):\n",
    "        tokens = [w for w in text.split() if not w in stopwords]\n",
    "    else:\n",
    "        tokens = text.split()\n",
    "\n",
    "    long_words = [tok for tok in tokens if len(tok) > 1]\n",
    "    return (\" \".join(long_words)).strip()"
   ]
  },
  {
   "cell_type": "markdown",
   "id": "41dde073-98f7-45ec-98ed-ea8746643610",
   "metadata": {},
   "source": [
    "Sanity check for the `clean_text` function"
   ]
  },
  {
   "cell_type": "code",
   "execution_count": 27,
   "id": "925ba0fd-6868-4c98-bd66-0fd7fc3f11dd",
   "metadata": {},
   "outputs": [
    {
     "data": {
      "text/html": [
       "<div>\n",
       "<style scoped>\n",
       "    .dataframe tbody tr th:only-of-type {\n",
       "        vertical-align: middle;\n",
       "    }\n",
       "\n",
       "    .dataframe tbody tr th {\n",
       "        vertical-align: top;\n",
       "    }\n",
       "\n",
       "    .dataframe thead th {\n",
       "        text-align: right;\n",
       "    }\n",
       "</style>\n",
       "<table border=\"1\" class=\"dataframe\">\n",
       "  <thead>\n",
       "    <tr style=\"text-align: right;\">\n",
       "      <th></th>\n",
       "      <th>Text</th>\n",
       "      <th>Summary</th>\n",
       "    </tr>\n",
       "  </thead>\n",
       "  <tbody>\n",
       "    <tr>\n",
       "      <th>0</th>\n",
       "      <td>I have bought several of the Vitality canned d...</td>\n",
       "      <td>Good Quality Dog Food</td>\n",
       "    </tr>\n",
       "    <tr>\n",
       "      <th>1</th>\n",
       "      <td>Product arrived labeled as Jumbo Salted Peanut...</td>\n",
       "      <td>Not as Advertised</td>\n",
       "    </tr>\n",
       "    <tr>\n",
       "      <th>2</th>\n",
       "      <td>This is a confection that has been around a fe...</td>\n",
       "      <td>\"Delight\" says it all</td>\n",
       "    </tr>\n",
       "    <tr>\n",
       "      <th>3</th>\n",
       "      <td>If you are looking for the secret ingredient i...</td>\n",
       "      <td>Cough Medicine</td>\n",
       "    </tr>\n",
       "    <tr>\n",
       "      <th>4</th>\n",
       "      <td>Great taffy at a great price.  There was a wid...</td>\n",
       "      <td>Great taffy</td>\n",
       "    </tr>\n",
       "  </tbody>\n",
       "</table>\n",
       "</div>"
      ],
      "text/plain": [
       "                                                Text                Summary\n",
       "0  I have bought several of the Vitality canned d...  Good Quality Dog Food\n",
       "1  Product arrived labeled as Jumbo Salted Peanut...      Not as Advertised\n",
       "2  This is a confection that has been around a fe...  \"Delight\" says it all\n",
       "3  If you are looking for the secret ingredient i...         Cough Medicine\n",
       "4  Great taffy at a great price.  There was a wid...            Great taffy"
      ]
     },
     "execution_count": 27,
     "metadata": {},
     "output_type": "execute_result"
    }
   ],
   "source": [
    "data = df[['Text', 'Summary']]\n",
    "data.head(5)"
   ]
  },
  {
   "cell_type": "markdown",
   "id": "3cf68c5c-9e5b-429a-a633-86709ad9a8f2",
   "metadata": {},
   "source": [
    "**Clean the texts of all records in the dataset**"
   ]
  },
  {
   "cell_type": "code",
   "execution_count": 31,
   "id": "05e3c527-1365-4c6c-bf2f-f6697378eae0",
   "metadata": {},
   "outputs": [
    {
     "name": "stderr",
     "output_type": "stream",
     "text": [
      "100%|██████████| 393565/393565 [01:05<00:00, 6051.48it/s]\n"
     ]
    }
   ],
   "source": [
    "cleaned_text = []\n",
    "for t in tqdm(data['Text']):\n",
    "    cleaned_text.append(clean_text(t, 0))"
   ]
  },
  {
   "cell_type": "code",
   "execution_count": 32,
   "id": "4fef9e16-f298-4c85-9d59-a1fe69cc3b8d",
   "metadata": {},
   "outputs": [
    {
     "data": {
      "text/plain": [
       "['bought several vitality canned dog food products found good quality product looks like stew processed meat smells better labrador finicky appreciates product better',\n",
       " 'product arrived labeled jumbo salted peanuts peanuts actually small sized unsalted sure error vendor intended represent product jumbo',\n",
       " 'confection around centuries light pillowy citrus gelatin nuts case filberts cut tiny squares liberally coated powdered sugar tiny mouthful heaven chewy flavorful highly recommend yummy treat familiar story lewis lion witch wardrobe treat seduces edmund selling brother sisters witch',\n",
       " 'looking secret ingredient robitussin believe found got addition root beer extract ordered made cherry soda flavor medicinal',\n",
       " 'great taffy great price wide assortment yummy taffy delivery quick taffy lover deal']"
      ]
     },
     "execution_count": 32,
     "metadata": {},
     "output_type": "execute_result"
    }
   ],
   "source": [
    "cleaned_text[:5]"
   ]
  },
  {
   "cell_type": "code",
   "execution_count": 33,
   "id": "7513ccb0-e6df-4497-aeac-93954109a1c2",
   "metadata": {},
   "outputs": [
    {
     "name": "stderr",
     "output_type": "stream",
     "text": [
      " 16%|█▌        | 62651/393565 [00:07<00:37, 8743.45it/s]/home/erik/.cache/pypoetry/virtualenvs/dd2424-text-summarization-GSmT3uUC-py3.8/lib/python3.8/site-packages/bs4/__init__.py:417: MarkupResemblesLocatorWarning: \"http://www.amazon.com/gp/product/b007i7yygy/ref=cm_cr_rev_prod_title\" looks like a URL. Beautiful Soup is not an HTTP client. You should probably use an HTTP client like requests to get the document behind the URL, and feed that document to Beautiful Soup.\n",
      "  warnings.warn(\n",
      " 31%|███       | 122835/393565 [00:14<00:31, 8717.57it/s]/home/erik/.cache/pypoetry/virtualenvs/dd2424-text-summarization-GSmT3uUC-py3.8/lib/python3.8/site-packages/bs4/__init__.py:332: MarkupResemblesLocatorWarning: \".\" looks like a filename, not markup. You should probably open this file and pass the filehandle into Beautiful Soup.\n",
      "  warnings.warn(\n",
      " 39%|███▉      | 155126/393565 [00:17<00:28, 8510.87it/s]/home/erik/.cache/pypoetry/virtualenvs/dd2424-text-summarization-GSmT3uUC-py3.8/lib/python3.8/site-packages/bs4/__init__.py:417: MarkupResemblesLocatorWarning: \"http://www.amazon.com/gp/product/b000v9lq30/ref=cm_cr_rev_prod_title\" looks like a URL. Beautiful Soup is not an HTTP client. You should probably use an HTTP client like requests to get the document behind the URL, and feed that document to Beautiful Soup.\n",
      "  warnings.warn(\n",
      "/home/erik/.cache/pypoetry/virtualenvs/dd2424-text-summarization-GSmT3uUC-py3.8/lib/python3.8/site-packages/bs4/__init__.py:417: MarkupResemblesLocatorWarning: \"http://www.amazon.com/gp/product/b001eq58fq/ref=cm_cr_rev_prod_title\" looks like a URL. Beautiful Soup is not an HTTP client. You should probably use an HTTP client like requests to get the document behind the URL, and feed that document to Beautiful Soup.\n",
      "  warnings.warn(\n",
      " 43%|████▎     | 170596/393565 [00:19<00:25, 8580.44it/s]/home/erik/.cache/pypoetry/virtualenvs/dd2424-text-summarization-GSmT3uUC-py3.8/lib/python3.8/site-packages/bs4/__init__.py:417: MarkupResemblesLocatorWarning: \"http://www.amazon.com/gp/product/b000eyobru/ref=cm_cr_rev_prod_title\" looks like a URL. Beautiful Soup is not an HTTP client. You should probably use an HTTP client like requests to get the document behind the URL, and feed that document to Beautiful Soup.\n",
      "  warnings.warn(\n",
      "100%|██████████| 393565/393565 [00:46<00:00, 8540.24it/s]\n"
     ]
    }
   ],
   "source": [
    "cleaned_summary = []\n",
    "for t in tqdm(data['Summary']):\n",
    "    cleaned_summary.append(clean_text(t, 0))"
   ]
  },
  {
   "cell_type": "code",
   "execution_count": 34,
   "id": "3fabc70c-68a4-44be-8a69-b662a80af548",
   "metadata": {},
   "outputs": [
    {
     "data": {
      "text/plain": [
       "['good quality dog food',\n",
       " 'advertised',\n",
       " 'delight says',\n",
       " 'cough medicine',\n",
       " 'great taffy']"
      ]
     },
     "execution_count": 34,
     "metadata": {},
     "output_type": "execute_result"
    }
   ],
   "source": [
    "cleaned_summary[:5]"
   ]
  },
  {
   "cell_type": "markdown",
   "id": "ebc67c53-64e4-48ef-9b33-29b5eeb9851b",
   "metadata": {},
   "source": [
    "Set the `data` frame to use the cleaned texts"
   ]
  },
  {
   "cell_type": "code",
   "execution_count": 35,
   "id": "5d49d4c3-3f30-4846-956e-472b7444d1b4",
   "metadata": {},
   "outputs": [
    {
     "name": "stderr",
     "output_type": "stream",
     "text": [
      "<ipython-input-35-bce07196deef>:1: SettingWithCopyWarning: \n",
      "A value is trying to be set on a copy of a slice from a DataFrame.\n",
      "Try using .loc[row_indexer,col_indexer] = value instead\n",
      "\n",
      "See the caveats in the documentation: https://pandas.pydata.org/pandas-docs/stable/user_guide/indexing.html#returning-a-view-versus-a-copy\n",
      "  data['Text'] = cleaned_text\n",
      "<ipython-input-35-bce07196deef>:2: SettingWithCopyWarning: \n",
      "A value is trying to be set on a copy of a slice from a DataFrame.\n",
      "Try using .loc[row_indexer,col_indexer] = value instead\n",
      "\n",
      "See the caveats in the documentation: https://pandas.pydata.org/pandas-docs/stable/user_guide/indexing.html#returning-a-view-versus-a-copy\n",
      "  data['Summary'] = cleaned_summary\n"
     ]
    }
   ],
   "source": [
    "data['Text'] = cleaned_text\n",
    "data['Summary'] = cleaned_summary"
   ]
  },
  {
   "cell_type": "code",
   "execution_count": 36,
   "id": "5cb828a9-f4a1-4552-95aa-abbd92e7da7c",
   "metadata": {},
   "outputs": [
    {
     "name": "stdout",
     "output_type": "stream",
     "text": [
      "<class 'pandas.core.frame.DataFrame'>\n",
      "Int64Index: 393565 entries, 0 to 568453\n",
      "Data columns (total 2 columns):\n",
      " #   Column   Non-Null Count   Dtype \n",
      "---  ------   --------------   ----- \n",
      " 0   Text     393565 non-null  object\n",
      " 1   Summary  393565 non-null  object\n",
      "dtypes: object(2)\n",
      "memory usage: 9.0+ MB\n"
     ]
    }
   ],
   "source": [
    "data.info()"
   ]
  },
  {
   "cell_type": "markdown",
   "id": "4f366ac4-a1f9-46be-a351-6f78387644c9",
   "metadata": {},
   "source": [
    "**Another round of deduplication**\n",
    "\n",
    "This is to remove text or summary that are potentially empty"
   ]
  },
  {
   "cell_type": "code",
   "execution_count": 37,
   "id": "0ce5e5c4-95df-4775-8c5c-d303e5b5a812",
   "metadata": {},
   "outputs": [
    {
     "name": "stdout",
     "output_type": "stream",
     "text": [
      "<class 'pandas.core.frame.DataFrame'>\n",
      "Int64Index: 392324 entries, 0 to 568453\n",
      "Data columns (total 2 columns):\n",
      " #   Column   Non-Null Count   Dtype \n",
      "---  ------   --------------   ----- \n",
      " 0   Text     392324 non-null  object\n",
      " 1   Summary  392324 non-null  object\n",
      "dtypes: object(2)\n",
      "memory usage: 9.0+ MB\n"
     ]
    },
    {
     "name": "stderr",
     "output_type": "stream",
     "text": [
      "/home/erik/.cache/pypoetry/virtualenvs/dd2424-text-summarization-GSmT3uUC-py3.8/lib/python3.8/site-packages/pandas/core/frame.py:4524: SettingWithCopyWarning: \n",
      "A value is trying to be set on a copy of a slice from a DataFrame\n",
      "\n",
      "See the caveats in the documentation: https://pandas.pydata.org/pandas-docs/stable/user_guide/indexing.html#returning-a-view-versus-a-copy\n",
      "  return super().replace(\n",
      "<ipython-input-37-1bf572797fb1>:2: SettingWithCopyWarning: \n",
      "A value is trying to be set on a copy of a slice from a DataFrame\n",
      "\n",
      "See the caveats in the documentation: https://pandas.pydata.org/pandas-docs/stable/user_guide/indexing.html#returning-a-view-versus-a-copy\n",
      "  data.dropna(axis=0, inplace=True)\n"
     ]
    }
   ],
   "source": [
    "data.replace('', np.nan, inplace=True)\n",
    "data.dropna(axis=0, inplace=True)\n",
    "data.info()"
   ]
  },
  {
   "cell_type": "code",
   "execution_count": 38,
   "id": "7d30f172-058a-49bf-867a-84fbe938c94d",
   "metadata": {},
   "outputs": [
    {
     "data": {
      "image/png": "[encoded data removed]",
      "text/plain": [
       "<Figure size 432x288 with 2 Axes>"
      ]
     },
     "metadata": {
      "needs_background": "light"
     },
     "output_type": "display_data"
    }
   ],
   "source": [
    "text_word_count = []\n",
    "summary_word_count = []\n",
    "\n",
    "# populate the lists with sentence lengths\n",
    "for i in data['Text']:\n",
    "      text_word_count.append(len(i.split()))\n",
    "\n",
    "for i in data['Summary']:\n",
    "      summary_word_count.append(len(i.split()))\n",
    "\n",
    "length_df = pd.DataFrame({'text':text_word_count, 'summary':summary_word_count})\n",
    "\n",
    "length_df.hist(bins = 30)\n",
    "plt.show();"
   ]
  },
  {
   "cell_type": "markdown",
   "id": "9c70636e-973b-4f11-bdf6-4efe16489691",
   "metadata": {},
   "source": [
    "#### Self-doubt\n",
    "\n",
    "I'm interested in who much of the text in the dataset that is roughly longer than 64 words"
   ]
  },
  {
   "cell_type": "code",
   "execution_count": 43,
   "id": "b5691362-6401-40e2-a815-359ee66a3fcb",
   "metadata": {},
   "outputs": [
    {
     "name": "stdout",
     "output_type": "stream",
     "text": [
      "0.8613441951040467\n"
     ]
    }
   ],
   "source": [
    "cnt = 0\n",
    "for i in data['Text']:\n",
    "    if(len(i.split()) <= 64):\n",
    "        cnt = cnt + 1\n",
    "print(cnt/len(data['Text']))"
   ]
  },
  {
   "cell_type": "markdown",
   "id": "b374c98e-c2b5-4c6a-a7ca-0abc4253250f",
   "metadata": {},
   "source": [
    "### 2.3. Standardize text lengths\n",
    "\n",
    "In this step, we're going to standardize the length of the `Text` (i.e., `input`) to 64 and the `Summary` to 10"
   ]
  },
  {
   "cell_type": "code",
   "execution_count": 46,
   "id": "9a1d7649-9b60-4011-9698-0ddb2673b519",
   "metadata": {},
   "outputs": [
    {
     "data": {
      "text/html": [
       "<div>\n",
       "<style scoped>\n",
       "    .dataframe tbody tr th:only-of-type {\n",
       "        vertical-align: middle;\n",
       "    }\n",
       "\n",
       "    .dataframe tbody tr th {\n",
       "        vertical-align: top;\n",
       "    }\n",
       "\n",
       "    .dataframe thead th {\n",
       "        text-align: right;\n",
       "    }\n",
       "</style>\n",
       "<table border=\"1\" class=\"dataframe\">\n",
       "  <thead>\n",
       "    <tr style=\"text-align: right;\">\n",
       "      <th></th>\n",
       "      <th>text</th>\n",
       "      <th>summary</th>\n",
       "    </tr>\n",
       "  </thead>\n",
       "  <tbody>\n",
       "    <tr>\n",
       "      <th>0</th>\n",
       "      <td>bought several vitality canned dog food produc...</td>\n",
       "      <td>good quality dog food</td>\n",
       "    </tr>\n",
       "    <tr>\n",
       "      <th>1</th>\n",
       "      <td>product arrived labeled jumbo salted peanuts p...</td>\n",
       "      <td>advertised</td>\n",
       "    </tr>\n",
       "    <tr>\n",
       "      <th>2</th>\n",
       "      <td>confection around centuries light pillowy citr...</td>\n",
       "      <td>delight says</td>\n",
       "    </tr>\n",
       "    <tr>\n",
       "      <th>3</th>\n",
       "      <td>looking secret ingredient robitussin believe f...</td>\n",
       "      <td>cough medicine</td>\n",
       "    </tr>\n",
       "    <tr>\n",
       "      <th>4</th>\n",
       "      <td>great taffy great price wide assortment yummy ...</td>\n",
       "      <td>great taffy</td>\n",
       "    </tr>\n",
       "  </tbody>\n",
       "</table>\n",
       "</div>"
      ],
      "text/plain": [
       "                                                text                summary\n",
       "0  bought several vitality canned dog food produc...  good quality dog food\n",
       "1  product arrived labeled jumbo salted peanuts p...             advertised\n",
       "2  confection around centuries light pillowy citr...           delight says\n",
       "3  looking secret ingredient robitussin believe f...         cough medicine\n",
       "4  great taffy great price wide assortment yummy ...            great taffy"
      ]
     },
     "execution_count": 46,
     "metadata": {},
     "output_type": "execute_result"
    }
   ],
   "source": [
    "cleaned_text = np.array(data['Text'])\n",
    "cleaned_summary = np.array(data['Summary'])\n",
    "\n",
    "short_text = []\n",
    "short_summary = []\n",
    "\n",
    "for i in range(len(cleaned_text)):\n",
    "    if(len(cleaned_summary[i].split()) <= 8 and len(cleaned_text[i].split()) <= 64):\n",
    "        short_text.append(cleaned_text[i])\n",
    "        short_summary.append(cleaned_summary[i])\n",
    "        \n",
    "df = pd.DataFrame({ 'text': short_text, 'summary': short_summary })\n",
    "df.head(5)"
   ]
  },
  {
   "cell_type": "markdown",
   "id": "37e13864-45dc-44e3-ac02-441234341c34",
   "metadata": {},
   "source": [
    "## 3. Write output"
   ]
  },
  {
   "cell_type": "code",
   "execution_count": 55,
   "id": "240ced4e-a0fd-4f77-9238-6fe107eadf54",
   "metadata": {},
   "outputs": [],
   "source": [
    "df.to_csv(os.path.join(DATA_DIR, 'amazon-product-reviews', 'reviews-clean.csv'), index=False)"
   ]
  }
 ],
 "metadata": {
  "kernelspec": {
   "display_name": "Python 3",
   "language": "python",
   "name": "python3"
  },
  "language_info": {
   "codemirror_mode": {
    "name": "ipython",
    "version": 3
   },
   "file_extension": ".py",
   "mimetype": "text/x-python",
   "name": "python",
   "nbconvert_exporter": "python",
   "pygments_lexer": "ipython3",
   "version": "3.8.5"
  }
 },
 "nbformat": 4,
 "nbformat_minor": 5
}
